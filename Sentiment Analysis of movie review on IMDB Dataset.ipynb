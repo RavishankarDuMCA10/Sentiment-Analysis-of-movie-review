{
 "cells": [
  {
   "cell_type": "markdown",
   "id": "0163eefc",
   "metadata": {},
   "source": [
    "# Sentiment Analysis of movie review on IMDB Dataset"
   ]
  },
  {
   "cell_type": "markdown",
   "id": "ed4fd098",
   "metadata": {},
   "source": [
    "## Classify movie reviews from IMDB into positive or negative sentiment\n",
    "\n",
    "### Download the dataset [here](https://ai.stanford.edu/~amaas/data/sentiment/aclImdb_v1.tar.gz)"
   ]
  },
  {
   "cell_type": "code",
   "execution_count": 27,
   "id": "67cee600",
   "metadata": {},
   "outputs": [],
   "source": [
    "# import libraries\n",
    "\n",
    "from gensim.models import KeyedVectors\n",
    "import numpy as np\n",
    "import pandas as pd\n",
    "import matplotlib.pyplot as plt\n",
    "from sklearn.model_selection import train_test_split\n",
    "from tensorflow.keras.preprocessing import text_dataset_from_directory\n",
    "from tensorflow.keras.preprocessing.sequence import pad_sequences\n",
    "from tensorflow.keras.preprocessing.text import Tokenizer\n",
    "from tensorflow.keras.layers import Embedding, Dense, Input, GlobalAveragePooling1D\n",
    "from tensorflow.keras.models import Sequential\n",
    "from tensorflow.keras.optimizers.legacy import Adam\n",
    "\n",
    "import utils"
   ]
  },
  {
   "cell_type": "markdown",
   "id": "f690edd2",
   "metadata": {},
   "source": [
    "## Exploring the dataset"
   ]
  },
  {
   "cell_type": "code",
   "execution_count": 39,
   "id": "d446d763",
   "metadata": {},
   "outputs": [
    {
     "name": "stdout",
     "output_type": "stream",
     "text": [
      "Found 25000 files belonging to 2 classes.\n",
      "Found 25000 files belonging to 2 classes.\n"
     ]
    }
   ],
   "source": [
    "# Importing & preprocessing the dataset\n",
    "\n",
    "train_ds = text_dataset_from_directory('Distributional_Semantics/aclImdb_1/train')\n",
    "test_ds = text_dataset_from_directory('Distributional_Semantics/aclImdb_1/test')\n",
    "\n",
    "dfTrain = pd.DataFrame(train_ds.unbatch().as_numpy_iterator(), columns=['text', 'label'])\n",
    "dfTest = pd.DataFrame(test_ds.unbatch().as_numpy_iterator(), columns=['text', 'label'])\n",
    "_, xts = train_test_split(dfTest, stratify=dfTest['label'], test_size=0.25)\n",
    "\n",
    "dfTrain['text'] = dfTrain['text'].map(lambda x: x.decode())\n",
    "xts['text'] = xts['text'].map(lambda x: x.decode())"
   ]
  },
  {
   "cell_type": "markdown",
   "id": "366b927a",
   "metadata": {},
   "source": [
    "**Show random 5 reviews with length 200 form train dataset**"
   ]
  },
  {
   "cell_type": "code",
   "execution_count": 40,
   "id": "4be5e5d9",
   "metadata": {},
   "outputs": [
    {
     "data": {
      "text/html": [
       "<div>\n",
       "<style scoped>\n",
       "    .dataframe tbody tr th:only-of-type {\n",
       "        vertical-align: middle;\n",
       "    }\n",
       "\n",
       "    .dataframe tbody tr th {\n",
       "        vertical-align: top;\n",
       "    }\n",
       "\n",
       "    .dataframe thead th {\n",
       "        text-align: right;\n",
       "    }\n",
       "</style>\n",
       "<table border=\"1\" class=\"dataframe\">\n",
       "  <thead>\n",
       "    <tr style=\"text-align: right;\">\n",
       "      <th></th>\n",
       "      <th>text</th>\n",
       "      <th>label</th>\n",
       "    </tr>\n",
       "  </thead>\n",
       "  <tbody>\n",
       "    <tr>\n",
       "      <th>7515</th>\n",
       "      <td>Not since Caligula have I considered turning off the movie half-way through....but then with this one, I was only 15 minutes in when I considered. Unfortunately, I did make it all the way through....</td>\n",
       "      <td>0</td>\n",
       "    </tr>\n",
       "    <tr>\n",
       "      <th>7788</th>\n",
       "      <td>This is the worst movie I've ever seen in my life. This is saying quite a bit, considering some of the choices I've made in film rentals.&lt;br /&gt;&lt;br /&gt;I got this on netflix based entirely on the fac...</td>\n",
       "      <td>0</td>\n",
       "    </tr>\n",
       "    <tr>\n",
       "      <th>5887</th>\n",
       "      <td>I just saw this at the Toronto Film Festival, and I hope it gets wide release because I want to see it again! It is a character-driven film, and Andrew and David are more than up to the task. Any ...</td>\n",
       "      <td>1</td>\n",
       "    </tr>\n",
       "    <tr>\n",
       "      <th>3925</th>\n",
       "      <td>It may (or may not) be considered interesting that the only reason I really checked out this movie in the first place was because I wanted to see the performance of the man who beat out Humphrey B...</td>\n",
       "      <td>1</td>\n",
       "    </tr>\n",
       "    <tr>\n",
       "      <th>23894</th>\n",
       "      <td>I remember watching this in the 1970s - then I have just recently borrowed a couple of episodes from our public library.&lt;br /&gt;&lt;br /&gt;With a nearly 30 year hiatus, I have come to another conclusion....</td>\n",
       "      <td>1</td>\n",
       "    </tr>\n",
       "  </tbody>\n",
       "</table>\n",
       "</div>"
      ],
      "text/plain": [
       "                                                                                                                                                                                                          text  label\n",
       "7515   Not since Caligula have I considered turning off the movie half-way through....but then with this one, I was only 15 minutes in when I considered. Unfortunately, I did make it all the way through....      0\n",
       "7788   This is the worst movie I've ever seen in my life. This is saying quite a bit, considering some of the choices I've made in film rentals.<br /><br />I got this on netflix based entirely on the fac...      0\n",
       "5887   I just saw this at the Toronto Film Festival, and I hope it gets wide release because I want to see it again! It is a character-driven film, and Andrew and David are more than up to the task. Any ...      1\n",
       "3925   It may (or may not) be considered interesting that the only reason I really checked out this movie in the first place was because I wanted to see the performance of the man who beat out Humphrey B...      1\n",
       "23894  I remember watching this in the 1970s - then I have just recently borrowed a couple of episodes from our public library.<br /><br />With a nearly 30 year hiatus, I have come to another conclusion....      1"
      ]
     },
     "execution_count": 40,
     "metadata": {},
     "output_type": "execute_result"
    }
   ],
   "source": [
    "pd.options.display.max_colwidth = 200\n",
    "dfTrain.sample(n=5)"
   ]
  },
  {
   "cell_type": "code",
   "execution_count": 41,
   "id": "dcc6ea3a",
   "metadata": {},
   "outputs": [
    {
     "name": "stdout",
     "output_type": "stream",
     "text": [
      "Once when I was in college and we had an international fair, the Russian section had a Soviet-era poster saying \"Ne boltay!\", meaning \"Don't gossip!\". I \"translated\" it for the \"generation\" of TV watchers as \"Don't be Gladys Kravitz!\" (in reference to the nosy neighbor on \"Bewitched\").<br /><br />However, when you see the result of gossip in the Pvt. Snafu short \"Rumors\", you see that it's not quite a laughing matter. In this case, the perpetually witless soldier overhears something about bombing and immediately assumes that the Axis Powers have attacked the United States. So, he tells it to someone, who tells someone else, who tells someone else, and it continues. As in \"The Russians Are Coming, the Russians Are Coming\", the story gets blown more and more out of proportion each time, so that when it gets back to Snafu...well, you know what I mean! Yes, it's mostly WWII propaganda - complete with a derogatory term for the Japanese - but I have to say that the Pvt. Snafu shorts were actually quite funny. Of course, since they had Dr. Seuss writing and Mel Blanc providing the voices, it's no surprise that these came out rather cool. Worth seeing.\n"
     ]
    }
   ],
   "source": [
    "print(dfTrain.loc[0, 'text'])"
   ]
  },
  {
   "cell_type": "markdown",
   "id": "245fac0f",
   "metadata": {},
   "source": [
    "## Tokenize the text"
   ]
  },
  {
   "cell_type": "code",
   "execution_count": 42,
   "id": "0599fe5f",
   "metadata": {},
   "outputs": [
    {
     "name": "stdout",
     "output_type": "stream",
     "text": [
      "Found 88582 unique tokens.\n"
     ]
    }
   ],
   "source": [
    "tokenizer = Tokenizer()\n",
    "tokenizer.fit_on_texts(dfTrain['text'].tolist())\n",
    "train_sequences = tokenizer.texts_to_sequences(dfTrain['text'].tolist())\n",
    "test_sequences = tokenizer.texts_to_sequences(xts['text'].tolist())\n",
    "\n",
    "word_index = tokenizer.word_index\n",
    "print('Found %s unique tokens.' % len(word_index))"
   ]
  },
  {
   "cell_type": "code",
   "execution_count": 45,
   "id": "44b569c6",
   "metadata": {},
   "outputs": [
    {
     "name": "stdout",
     "output_type": "stream",
     "text": [
      "[277, 51, 10, 13, 8, 1166, 2, 72, 66, 32, 1957, 1250, 1, 1763, 2419, 66, 3, 3734, 996, 3735, 657, 14896, 52007, 1213, 89, 10086, 10, 5399, 9, 15, 1, 2232, 4, 245, 11037, 14, 89, 27, 14897, 52008, 8, 2888, 5, 1, 16816, 3584, 20, 13886, 7, 7, 187, 51, 22, 64, 1, 956, 4, 10086, 8, 1, 25242, 13420, 343, 9878, 22, 64, 12, 42, 21, 176, 3, 1100, 548, 8, 11, 417, 1, 11585, 9457, 1627, 20598, 139, 41, 9092, 2, 1237, 7916, 12, 1, 17633, 1718, 25, 2974, 1, 2345, 1628, 35, 26, 713, 9, 5, 291, 34, 713, 291, 331, 34, 713, 291, 331, 2, 9, 1992, 14, 8, 1, 8422, 23, 579, 1, 8422, 23, 579, 1, 62, 211, 2640, 50, 2, 50, 43, 4, 11307, 254, 55, 35, 12, 51, 9, 211, 142, 5, 13420, 70, 22, 121, 48, 10, 380, 419, 42, 665, 3008, 2454, 597, 16, 3, 21905, 2876, 15, 1, 857, 18, 10, 25, 5, 132, 12, 1, 25242, 13420, 3146, 68, 162, 176, 160, 4, 261, 234, 33, 66, 881, 9259, 484, 2, 3765, 13887, 3736, 1, 2332, 42, 54, 862, 12, 131, 382, 43, 244, 642, 287, 316]\n"
     ]
    }
   ],
   "source": [
    "print(train_sequences[0])"
   ]
  },
  {
   "cell_type": "code",
   "execution_count": 46,
   "id": "ecd4cf43",
   "metadata": {},
   "outputs": [
    {
     "name": "stdout",
     "output_type": "stream",
     "text": [
      "['once', 'when', 'i', 'was', 'in', 'college', 'and', 'we', 'had', 'an', 'international', 'fair', 'the', 'russian', 'section', 'had', 'a', 'soviet', 'era', 'poster', 'saying', 'ne', 'boltay', 'meaning', \"don't\", 'gossip', 'i', 'translated', 'it', 'for', 'the', 'generation', 'of', 'tv', 'watchers', 'as', \"don't\", 'be', 'gladys', 'kravitz', 'in', 'reference', 'to', 'the', 'nosy', 'neighbor', 'on', 'bewitched', 'br', 'br', 'however', 'when', 'you', 'see', 'the', 'result', 'of', 'gossip', 'in', 'the', 'pvt', 'snafu', 'short', 'rumors', 'you', 'see', 'that', \"it's\", 'not', 'quite', 'a', 'laughing', 'matter', 'in', 'this', 'case', 'the', 'perpetually', 'witless', 'soldier', 'overhears', 'something', 'about', 'bombing', 'and', 'immediately', 'assumes', 'that', 'the', 'axis', 'powers', 'have', 'attacked', 'the', 'united', 'states', 'so', 'he', 'tells', 'it', 'to', 'someone', 'who', 'tells', 'someone', 'else', 'who', 'tells', 'someone', 'else', 'and', 'it', 'continues', 'as', 'in', 'the', 'russians', 'are', 'coming', 'the', 'russians', 'are', 'coming', 'the', 'story', 'gets', 'blown', 'more', 'and', 'more', 'out', 'of', 'proportion', 'each', 'time', 'so', 'that', 'when', 'it', 'gets', 'back', 'to', 'snafu', 'well', 'you', 'know', 'what', 'i', 'mean', 'yes', \"it's\", 'mostly', 'wwii', 'propaganda', 'complete', 'with', 'a', 'derogatory', 'term', 'for', 'the', 'japanese', 'but', 'i', 'have', 'to', 'say', 'that', 'the', 'pvt', 'snafu', 'shorts', 'were', 'actually', 'quite', 'funny', 'of', 'course', 'since', 'they', 'had', 'dr', 'seuss', 'writing', 'and', 'mel', 'blanc', 'providing', 'the', 'voices', \"it's\", 'no', 'surprise', 'that', 'these', 'came', 'out', 'rather', 'cool', 'worth', 'seeing']\n"
     ]
    }
   ],
   "source": [
    "print([tokenizer.index_word[k] for k in train_sequences[0]])"
   ]
  },
  {
   "cell_type": "markdown",
   "id": "4b8a8be9",
   "metadata": {},
   "source": [
    "**Get max sequence length of the max length sentence**"
   ]
  },
  {
   "cell_type": "code",
   "execution_count": 47,
   "id": "a044698a",
   "metadata": {},
   "outputs": [],
   "source": [
    "MAX_SEQUENCE_LENGTH = max([max(map(len, train_sequences)), max(map(len, test_sequences))])"
   ]
  },
  {
   "cell_type": "code",
   "execution_count": 48,
   "id": "38a381d1",
   "metadata": {},
   "outputs": [
    {
     "data": {
      "text/plain": [
       "2493"
      ]
     },
     "execution_count": 48,
     "metadata": {},
     "output_type": "execute_result"
    }
   ],
   "source": [
    "MAX_SEQUENCE_LENGTH"
   ]
  },
  {
   "cell_type": "markdown",
   "id": "7e9708d4",
   "metadata": {},
   "source": [
    "**Add padding in all sequences of sentences those length is less than MAX_SEQUENCE_LENGTH**"
   ]
  },
  {
   "cell_type": "code",
   "execution_count": 49,
   "id": "1c66edc1",
   "metadata": {},
   "outputs": [],
   "source": [
    "train_data = pad_sequences(train_sequences, maxlen=MAX_SEQUENCE_LENGTH)\n",
    "test_data = pad_sequences(test_sequences, maxlen=MAX_SEQUENCE_LENGTH)"
   ]
  },
  {
   "cell_type": "markdown",
   "id": "8bdc25b5",
   "metadata": {},
   "source": [
    "**Show second index train_data sequence by replacing 0 with \\<PAD\\> before train_data sequence**"
   ]
  },
  {
   "cell_type": "code",
   "execution_count": 50,
   "id": "87450f4f",
   "metadata": {},
   "outputs": [
    {
     "name": "stdout",
     "output_type": "stream",
     "text": [
      "['<PAD>', '<PAD>', '<PAD>', '<PAD>', '<PAD>', '<PAD>', '<PAD>', '<PAD>', '<PAD>', '<PAD>', '<PAD>', '<PAD>', '<PAD>', '<PAD>', '<PAD>', '<PAD>', '<PAD>', '<PAD>', '<PAD>', '<PAD>', '<PAD>', '<PAD>', '<PAD>', '<PAD>', '<PAD>', '<PAD>', '<PAD>', '<PAD>', '<PAD>', '<PAD>', '<PAD>', '<PAD>', '<PAD>', '<PAD>', '<PAD>', '<PAD>', '<PAD>', '<PAD>', '<PAD>', '<PAD>', '<PAD>', '<PAD>', '<PAD>', '<PAD>', '<PAD>', '<PAD>', '<PAD>', '<PAD>', '<PAD>', '<PAD>', '<PAD>', '<PAD>', '<PAD>', '<PAD>', '<PAD>', '<PAD>', '<PAD>', '<PAD>', '<PAD>', '<PAD>', '<PAD>', '<PAD>', '<PAD>', '<PAD>', '<PAD>', '<PAD>', '<PAD>', '<PAD>', '<PAD>', '<PAD>', '<PAD>', '<PAD>', '<PAD>', '<PAD>', '<PAD>', '<PAD>', '<PAD>', '<PAD>', '<PAD>', '<PAD>', '<PAD>', '<PAD>', '<PAD>', '<PAD>', '<PAD>', '<PAD>', '<PAD>', '<PAD>', '<PAD>', '<PAD>', '<PAD>', '<PAD>', '<PAD>', '<PAD>', '<PAD>', '<PAD>', '<PAD>', '<PAD>', '<PAD>', '<PAD>', '<PAD>', '<PAD>', '<PAD>', '<PAD>', '<PAD>', '<PAD>', '<PAD>', '<PAD>', '<PAD>', '<PAD>', '<PAD>', '<PAD>', '<PAD>', '<PAD>', '<PAD>', '<PAD>', '<PAD>', '<PAD>', '<PAD>', '<PAD>', '<PAD>', '<PAD>', '<PAD>', '<PAD>', '<PAD>', '<PAD>', '<PAD>', '<PAD>', '<PAD>', '<PAD>', '<PAD>', '<PAD>', '<PAD>', '<PAD>', '<PAD>', '<PAD>', '<PAD>', '<PAD>', '<PAD>', '<PAD>', '<PAD>', '<PAD>', '<PAD>', '<PAD>', '<PAD>', '<PAD>', '<PAD>', '<PAD>', '<PAD>', '<PAD>', '<PAD>', '<PAD>', '<PAD>', '<PAD>', '<PAD>', '<PAD>', '<PAD>', '<PAD>', '<PAD>', '<PAD>', '<PAD>', '<PAD>', '<PAD>', '<PAD>', '<PAD>', '<PAD>', '<PAD>', '<PAD>', '<PAD>', '<PAD>', '<PAD>', '<PAD>', '<PAD>', '<PAD>', '<PAD>', '<PAD>', '<PAD>', '<PAD>', '<PAD>', '<PAD>', '<PAD>', '<PAD>', '<PAD>', '<PAD>', '<PAD>', '<PAD>', '<PAD>', '<PAD>', '<PAD>', '<PAD>', '<PAD>', '<PAD>', '<PAD>', '<PAD>', '<PAD>', '<PAD>', '<PAD>', '<PAD>', '<PAD>', '<PAD>', '<PAD>', '<PAD>', '<PAD>', '<PAD>', '<PAD>', '<PAD>', '<PAD>', '<PAD>', '<PAD>', '<PAD>', '<PAD>', '<PAD>', '<PAD>', '<PAD>', '<PAD>', '<PAD>', '<PAD>', '<PAD>', '<PAD>', '<PAD>', '<PAD>', '<PAD>', '<PAD>', '<PAD>', '<PAD>', '<PAD>', '<PAD>', '<PAD>', '<PAD>', '<PAD>', '<PAD>', '<PAD>', '<PAD>', '<PAD>', '<PAD>', '<PAD>', '<PAD>', '<PAD>', '<PAD>', '<PAD>', '<PAD>', '<PAD>', '<PAD>', '<PAD>', '<PAD>', '<PAD>', '<PAD>', '<PAD>', '<PAD>', '<PAD>', '<PAD>', '<PAD>', '<PAD>', '<PAD>', '<PAD>', '<PAD>', '<PAD>', '<PAD>', '<PAD>', '<PAD>', '<PAD>', '<PAD>', '<PAD>', '<PAD>', '<PAD>', '<PAD>', '<PAD>', '<PAD>', '<PAD>', '<PAD>', '<PAD>', '<PAD>', '<PAD>', '<PAD>', '<PAD>', '<PAD>', '<PAD>', '<PAD>', '<PAD>', '<PAD>', '<PAD>', '<PAD>', '<PAD>', '<PAD>', '<PAD>', '<PAD>', '<PAD>', '<PAD>', '<PAD>', '<PAD>', '<PAD>', '<PAD>', '<PAD>', '<PAD>', '<PAD>', '<PAD>', '<PAD>', '<PAD>', '<PAD>', '<PAD>', '<PAD>', '<PAD>', '<PAD>', '<PAD>', '<PAD>', '<PAD>', '<PAD>', '<PAD>', '<PAD>', '<PAD>', '<PAD>', '<PAD>', '<PAD>', '<PAD>', '<PAD>', '<PAD>', '<PAD>', '<PAD>', '<PAD>', '<PAD>', '<PAD>', '<PAD>', '<PAD>', '<PAD>', '<PAD>', '<PAD>', '<PAD>', '<PAD>', '<PAD>', '<PAD>', '<PAD>', '<PAD>', '<PAD>', '<PAD>', '<PAD>', '<PAD>', '<PAD>', '<PAD>', '<PAD>', '<PAD>', '<PAD>', '<PAD>', '<PAD>', '<PAD>', '<PAD>', '<PAD>', '<PAD>', '<PAD>', '<PAD>', '<PAD>', '<PAD>', '<PAD>', '<PAD>', '<PAD>', '<PAD>', '<PAD>', '<PAD>', '<PAD>', '<PAD>', '<PAD>', '<PAD>', '<PAD>', '<PAD>', '<PAD>', '<PAD>', '<PAD>', '<PAD>', '<PAD>', '<PAD>', '<PAD>', '<PAD>', '<PAD>', '<PAD>', '<PAD>', '<PAD>', '<PAD>', '<PAD>', '<PAD>', '<PAD>', '<PAD>', '<PAD>', '<PAD>', '<PAD>', '<PAD>', '<PAD>', '<PAD>', '<PAD>', '<PAD>', '<PAD>', '<PAD>', '<PAD>', '<PAD>', '<PAD>', '<PAD>', '<PAD>', '<PAD>', '<PAD>', '<PAD>', '<PAD>', '<PAD>', '<PAD>', '<PAD>', '<PAD>', '<PAD>', '<PAD>', '<PAD>', '<PAD>', '<PAD>', '<PAD>', '<PAD>', '<PAD>', '<PAD>', '<PAD>', '<PAD>', '<PAD>', '<PAD>', '<PAD>', '<PAD>', '<PAD>', '<PAD>', '<PAD>', '<PAD>', '<PAD>', '<PAD>', '<PAD>', '<PAD>', '<PAD>', '<PAD>', '<PAD>', '<PAD>', '<PAD>', '<PAD>', '<PAD>', '<PAD>', '<PAD>', '<PAD>', '<PAD>', '<PAD>', '<PAD>', '<PAD>', '<PAD>', '<PAD>', '<PAD>', '<PAD>', '<PAD>', '<PAD>', '<PAD>', '<PAD>', '<PAD>', '<PAD>', '<PAD>', '<PAD>', '<PAD>', '<PAD>', '<PAD>', '<PAD>', '<PAD>', '<PAD>', '<PAD>', '<PAD>', '<PAD>', '<PAD>', '<PAD>', '<PAD>', '<PAD>', '<PAD>', '<PAD>', '<PAD>', '<PAD>', '<PAD>', '<PAD>', '<PAD>', '<PAD>', '<PAD>', '<PAD>', '<PAD>', '<PAD>', '<PAD>', '<PAD>', '<PAD>', '<PAD>', '<PAD>', '<PAD>', '<PAD>', '<PAD>', '<PAD>', '<PAD>', '<PAD>', '<PAD>', '<PAD>', '<PAD>', '<PAD>', '<PAD>', '<PAD>', '<PAD>', '<PAD>', '<PAD>', '<PAD>', '<PAD>', '<PAD>', '<PAD>', '<PAD>', '<PAD>', '<PAD>', '<PAD>', '<PAD>', '<PAD>', '<PAD>', '<PAD>', '<PAD>', '<PAD>', '<PAD>', '<PAD>', '<PAD>', '<PAD>', '<PAD>', '<PAD>', '<PAD>', '<PAD>', '<PAD>', '<PAD>', '<PAD>', '<PAD>', '<PAD>', '<PAD>', '<PAD>', '<PAD>', '<PAD>', '<PAD>', '<PAD>', '<PAD>', '<PAD>', '<PAD>', '<PAD>', '<PAD>', '<PAD>', '<PAD>', '<PAD>', '<PAD>', '<PAD>', '<PAD>', '<PAD>', '<PAD>', '<PAD>', '<PAD>', '<PAD>', '<PAD>', '<PAD>', '<PAD>', '<PAD>', '<PAD>', '<PAD>', '<PAD>', '<PAD>', '<PAD>', '<PAD>', '<PAD>', '<PAD>', '<PAD>', '<PAD>', '<PAD>', '<PAD>', '<PAD>', '<PAD>', '<PAD>', '<PAD>', '<PAD>', '<PAD>', '<PAD>', '<PAD>', '<PAD>', '<PAD>', '<PAD>', '<PAD>', '<PAD>', '<PAD>', '<PAD>', '<PAD>', '<PAD>', '<PAD>', '<PAD>', '<PAD>', '<PAD>', '<PAD>', '<PAD>', '<PAD>', '<PAD>', '<PAD>', '<PAD>', '<PAD>', '<PAD>', '<PAD>', '<PAD>', '<PAD>', '<PAD>', '<PAD>', '<PAD>', '<PAD>', '<PAD>', '<PAD>', '<PAD>', '<PAD>', '<PAD>', '<PAD>', '<PAD>', '<PAD>', '<PAD>', '<PAD>', '<PAD>', '<PAD>', '<PAD>', '<PAD>', '<PAD>', '<PAD>', '<PAD>', '<PAD>', '<PAD>', '<PAD>', '<PAD>', '<PAD>', '<PAD>', '<PAD>', '<PAD>', '<PAD>', '<PAD>', '<PAD>', '<PAD>', '<PAD>', '<PAD>', '<PAD>', '<PAD>', '<PAD>', '<PAD>', '<PAD>', '<PAD>', '<PAD>', '<PAD>', '<PAD>', '<PAD>', '<PAD>', '<PAD>', '<PAD>', '<PAD>', '<PAD>', '<PAD>', '<PAD>', '<PAD>', '<PAD>', '<PAD>', '<PAD>', '<PAD>', '<PAD>', '<PAD>', '<PAD>', '<PAD>', '<PAD>', '<PAD>', '<PAD>', '<PAD>', '<PAD>', '<PAD>', '<PAD>', '<PAD>', '<PAD>', '<PAD>', '<PAD>', '<PAD>', '<PAD>', '<PAD>', '<PAD>', '<PAD>', '<PAD>', '<PAD>', '<PAD>', '<PAD>', '<PAD>', '<PAD>', '<PAD>', '<PAD>', '<PAD>', '<PAD>', '<PAD>', '<PAD>', '<PAD>', '<PAD>', '<PAD>', '<PAD>', '<PAD>', '<PAD>', '<PAD>', '<PAD>', '<PAD>', '<PAD>', '<PAD>', '<PAD>', '<PAD>', '<PAD>', '<PAD>', '<PAD>', '<PAD>', '<PAD>', '<PAD>', '<PAD>', '<PAD>', '<PAD>', '<PAD>', '<PAD>', '<PAD>', '<PAD>', '<PAD>', '<PAD>', '<PAD>', '<PAD>', '<PAD>', '<PAD>', '<PAD>', '<PAD>', '<PAD>', '<PAD>', '<PAD>', '<PAD>', '<PAD>', '<PAD>', '<PAD>', '<PAD>', '<PAD>', '<PAD>', '<PAD>', '<PAD>', '<PAD>', '<PAD>', '<PAD>', '<PAD>', '<PAD>', '<PAD>', '<PAD>', '<PAD>', '<PAD>', '<PAD>', '<PAD>', '<PAD>', '<PAD>', '<PAD>', '<PAD>', '<PAD>', '<PAD>', '<PAD>', '<PAD>', '<PAD>', '<PAD>', '<PAD>', '<PAD>', '<PAD>', '<PAD>', '<PAD>', '<PAD>', '<PAD>', '<PAD>', '<PAD>', '<PAD>', '<PAD>', '<PAD>', '<PAD>', '<PAD>', '<PAD>', '<PAD>', '<PAD>', '<PAD>', '<PAD>', '<PAD>', '<PAD>', '<PAD>', '<PAD>', '<PAD>', '<PAD>', '<PAD>', '<PAD>', '<PAD>', '<PAD>', '<PAD>', '<PAD>', '<PAD>', '<PAD>', '<PAD>', '<PAD>', '<PAD>', '<PAD>', '<PAD>', '<PAD>', '<PAD>', '<PAD>', '<PAD>', '<PAD>', '<PAD>', '<PAD>', '<PAD>', '<PAD>', '<PAD>', '<PAD>', '<PAD>', '<PAD>', '<PAD>', '<PAD>', '<PAD>', '<PAD>', '<PAD>', '<PAD>', '<PAD>', '<PAD>', '<PAD>', '<PAD>', '<PAD>', '<PAD>', '<PAD>', '<PAD>', '<PAD>', '<PAD>', '<PAD>', '<PAD>', '<PAD>', '<PAD>', '<PAD>', '<PAD>', '<PAD>', '<PAD>', '<PAD>', '<PAD>', '<PAD>', '<PAD>', '<PAD>', '<PAD>', '<PAD>', '<PAD>', '<PAD>', '<PAD>', '<PAD>', '<PAD>', '<PAD>', '<PAD>', '<PAD>', '<PAD>', '<PAD>', '<PAD>', '<PAD>', '<PAD>', '<PAD>', '<PAD>', '<PAD>', '<PAD>', '<PAD>', '<PAD>', '<PAD>', '<PAD>', '<PAD>', '<PAD>', '<PAD>', '<PAD>', '<PAD>', '<PAD>', '<PAD>', '<PAD>', '<PAD>', '<PAD>', '<PAD>', '<PAD>', '<PAD>', '<PAD>', '<PAD>', '<PAD>', '<PAD>', '<PAD>', '<PAD>', '<PAD>', '<PAD>', '<PAD>', '<PAD>', '<PAD>', '<PAD>', '<PAD>', '<PAD>', '<PAD>', '<PAD>', '<PAD>', '<PAD>', '<PAD>', '<PAD>', '<PAD>', '<PAD>', '<PAD>', '<PAD>', '<PAD>', '<PAD>', '<PAD>', '<PAD>', '<PAD>', '<PAD>', '<PAD>', '<PAD>', '<PAD>', '<PAD>', '<PAD>', '<PAD>', '<PAD>', '<PAD>', '<PAD>', '<PAD>', '<PAD>', '<PAD>', '<PAD>', '<PAD>', '<PAD>', '<PAD>', '<PAD>', '<PAD>', '<PAD>', '<PAD>', '<PAD>', '<PAD>', '<PAD>', '<PAD>', '<PAD>', '<PAD>', '<PAD>', '<PAD>', '<PAD>', '<PAD>', '<PAD>', '<PAD>', '<PAD>', '<PAD>', '<PAD>', '<PAD>', '<PAD>', '<PAD>', '<PAD>', '<PAD>', '<PAD>', '<PAD>', '<PAD>', '<PAD>', '<PAD>', '<PAD>', '<PAD>', '<PAD>', '<PAD>', '<PAD>', '<PAD>', '<PAD>', '<PAD>', '<PAD>', '<PAD>', '<PAD>', '<PAD>', '<PAD>', '<PAD>', '<PAD>', '<PAD>', '<PAD>', '<PAD>', '<PAD>', '<PAD>', '<PAD>', '<PAD>', '<PAD>', '<PAD>', '<PAD>', '<PAD>', '<PAD>', '<PAD>', '<PAD>', '<PAD>', '<PAD>', '<PAD>', '<PAD>', '<PAD>', '<PAD>', '<PAD>', '<PAD>', '<PAD>', '<PAD>', '<PAD>', '<PAD>', '<PAD>', '<PAD>', '<PAD>', '<PAD>', '<PAD>', '<PAD>', '<PAD>', '<PAD>', '<PAD>', '<PAD>', '<PAD>', '<PAD>', '<PAD>', '<PAD>', '<PAD>', '<PAD>', '<PAD>', '<PAD>', '<PAD>', '<PAD>', '<PAD>', '<PAD>', '<PAD>', '<PAD>', '<PAD>', '<PAD>', '<PAD>', '<PAD>', '<PAD>', '<PAD>', '<PAD>', '<PAD>', '<PAD>', '<PAD>', '<PAD>', '<PAD>', '<PAD>', '<PAD>', '<PAD>', '<PAD>', '<PAD>', '<PAD>', '<PAD>', '<PAD>', '<PAD>', '<PAD>', '<PAD>', '<PAD>', '<PAD>', '<PAD>', '<PAD>', '<PAD>', '<PAD>', '<PAD>', '<PAD>', '<PAD>', '<PAD>', '<PAD>', '<PAD>', '<PAD>', '<PAD>', '<PAD>', '<PAD>', '<PAD>', '<PAD>', '<PAD>', '<PAD>', '<PAD>', '<PAD>', '<PAD>', '<PAD>', '<PAD>', '<PAD>', '<PAD>', '<PAD>', '<PAD>', '<PAD>', '<PAD>', '<PAD>', '<PAD>', '<PAD>', '<PAD>', '<PAD>', '<PAD>', '<PAD>', '<PAD>', '<PAD>', '<PAD>', '<PAD>', '<PAD>', '<PAD>', '<PAD>', '<PAD>', '<PAD>', '<PAD>', '<PAD>', '<PAD>', '<PAD>', '<PAD>', '<PAD>', '<PAD>', '<PAD>', '<PAD>', '<PAD>', '<PAD>', '<PAD>', '<PAD>', '<PAD>', '<PAD>', '<PAD>', '<PAD>', '<PAD>', '<PAD>', '<PAD>', '<PAD>', '<PAD>', '<PAD>', '<PAD>', '<PAD>', '<PAD>', '<PAD>', '<PAD>', '<PAD>', '<PAD>', '<PAD>', '<PAD>', '<PAD>', '<PAD>', '<PAD>', '<PAD>', '<PAD>', '<PAD>', '<PAD>', '<PAD>', '<PAD>', '<PAD>', '<PAD>', '<PAD>', '<PAD>', '<PAD>', '<PAD>', '<PAD>', '<PAD>', '<PAD>', '<PAD>', '<PAD>', '<PAD>', '<PAD>', '<PAD>', '<PAD>', '<PAD>', '<PAD>', '<PAD>', '<PAD>', '<PAD>', '<PAD>', '<PAD>', '<PAD>', '<PAD>', '<PAD>', '<PAD>', '<PAD>', '<PAD>', '<PAD>', '<PAD>', '<PAD>', '<PAD>', '<PAD>', '<PAD>', '<PAD>', '<PAD>', '<PAD>', '<PAD>', '<PAD>', '<PAD>', '<PAD>', '<PAD>', '<PAD>', '<PAD>', '<PAD>', '<PAD>', '<PAD>', '<PAD>', '<PAD>', '<PAD>', '<PAD>', '<PAD>', '<PAD>', '<PAD>', '<PAD>', '<PAD>', '<PAD>', '<PAD>', '<PAD>', '<PAD>', '<PAD>', '<PAD>', '<PAD>', '<PAD>', '<PAD>', '<PAD>', '<PAD>', '<PAD>', '<PAD>', '<PAD>', '<PAD>', '<PAD>', '<PAD>', '<PAD>', '<PAD>', '<PAD>', '<PAD>', '<PAD>', '<PAD>', '<PAD>', '<PAD>', '<PAD>', '<PAD>', '<PAD>', '<PAD>', '<PAD>', '<PAD>', '<PAD>', '<PAD>', '<PAD>', '<PAD>', '<PAD>', '<PAD>', '<PAD>', '<PAD>', '<PAD>', '<PAD>', '<PAD>', '<PAD>', '<PAD>', '<PAD>', '<PAD>', '<PAD>', '<PAD>', '<PAD>', '<PAD>', '<PAD>', '<PAD>', '<PAD>', '<PAD>', '<PAD>', '<PAD>', '<PAD>', '<PAD>', '<PAD>', '<PAD>', '<PAD>', '<PAD>', '<PAD>', '<PAD>', '<PAD>', '<PAD>', '<PAD>', '<PAD>', '<PAD>', '<PAD>', '<PAD>', '<PAD>', '<PAD>', '<PAD>', '<PAD>', '<PAD>', '<PAD>', '<PAD>', '<PAD>', '<PAD>', '<PAD>', '<PAD>', '<PAD>', '<PAD>', '<PAD>', '<PAD>', '<PAD>', '<PAD>', '<PAD>', '<PAD>', '<PAD>', '<PAD>', '<PAD>', '<PAD>', '<PAD>', '<PAD>', '<PAD>', '<PAD>', '<PAD>', '<PAD>', '<PAD>', '<PAD>', '<PAD>', '<PAD>', '<PAD>', '<PAD>', '<PAD>', '<PAD>', '<PAD>', '<PAD>', '<PAD>', '<PAD>', '<PAD>', '<PAD>', '<PAD>', '<PAD>', '<PAD>', '<PAD>', '<PAD>', '<PAD>', '<PAD>', '<PAD>', '<PAD>', '<PAD>', '<PAD>', '<PAD>', '<PAD>', '<PAD>', '<PAD>', '<PAD>', '<PAD>', '<PAD>', '<PAD>', '<PAD>', '<PAD>', '<PAD>', '<PAD>', '<PAD>', '<PAD>', '<PAD>', '<PAD>', '<PAD>', '<PAD>', '<PAD>', '<PAD>', '<PAD>', '<PAD>', '<PAD>', '<PAD>', '<PAD>', '<PAD>', '<PAD>', '<PAD>', '<PAD>', '<PAD>', '<PAD>', '<PAD>', '<PAD>', '<PAD>', '<PAD>', '<PAD>', '<PAD>', '<PAD>', '<PAD>', '<PAD>', '<PAD>', '<PAD>', '<PAD>', '<PAD>', '<PAD>', '<PAD>', '<PAD>', '<PAD>', '<PAD>', '<PAD>', '<PAD>', '<PAD>', '<PAD>', '<PAD>', '<PAD>', '<PAD>', '<PAD>', '<PAD>', '<PAD>', '<PAD>', '<PAD>', '<PAD>', '<PAD>', '<PAD>', '<PAD>', '<PAD>', '<PAD>', '<PAD>', '<PAD>', '<PAD>', '<PAD>', '<PAD>', '<PAD>', '<PAD>', '<PAD>', '<PAD>', '<PAD>', '<PAD>', '<PAD>', '<PAD>', '<PAD>', '<PAD>', '<PAD>', '<PAD>', '<PAD>', '<PAD>', '<PAD>', '<PAD>', '<PAD>', '<PAD>', '<PAD>', '<PAD>', '<PAD>', '<PAD>', '<PAD>', '<PAD>', '<PAD>', '<PAD>', '<PAD>', '<PAD>', '<PAD>', '<PAD>', '<PAD>', '<PAD>', '<PAD>', '<PAD>', '<PAD>', '<PAD>', '<PAD>', '<PAD>', '<PAD>', '<PAD>', '<PAD>', '<PAD>', '<PAD>', '<PAD>', '<PAD>', '<PAD>', '<PAD>', '<PAD>', '<PAD>', '<PAD>', '<PAD>', '<PAD>', '<PAD>', '<PAD>', '<PAD>', '<PAD>', '<PAD>', '<PAD>', '<PAD>', '<PAD>', '<PAD>', '<PAD>', '<PAD>', '<PAD>', '<PAD>', '<PAD>', '<PAD>', '<PAD>', '<PAD>', '<PAD>', '<PAD>', '<PAD>', '<PAD>', '<PAD>', '<PAD>', '<PAD>', '<PAD>', '<PAD>', '<PAD>', '<PAD>', '<PAD>', '<PAD>', '<PAD>', '<PAD>', '<PAD>', '<PAD>', '<PAD>', '<PAD>', '<PAD>', '<PAD>', '<PAD>', '<PAD>', '<PAD>', '<PAD>', '<PAD>', '<PAD>', '<PAD>', '<PAD>', '<PAD>', '<PAD>', '<PAD>', '<PAD>', '<PAD>', '<PAD>', '<PAD>', '<PAD>', '<PAD>', '<PAD>', '<PAD>', '<PAD>', '<PAD>', '<PAD>', '<PAD>', '<PAD>', '<PAD>', '<PAD>', '<PAD>', '<PAD>', '<PAD>', '<PAD>', '<PAD>', '<PAD>', '<PAD>', '<PAD>', '<PAD>', '<PAD>', '<PAD>', '<PAD>', '<PAD>', '<PAD>', '<PAD>', '<PAD>', '<PAD>', '<PAD>', '<PAD>', '<PAD>', '<PAD>', '<PAD>', '<PAD>', '<PAD>', '<PAD>', '<PAD>', '<PAD>', '<PAD>', '<PAD>', '<PAD>', '<PAD>', '<PAD>', '<PAD>', '<PAD>', '<PAD>', '<PAD>', '<PAD>', '<PAD>', '<PAD>', '<PAD>', '<PAD>', '<PAD>', '<PAD>', '<PAD>', '<PAD>', '<PAD>', '<PAD>', '<PAD>', '<PAD>', '<PAD>', '<PAD>', '<PAD>', '<PAD>', '<PAD>', '<PAD>', '<PAD>', '<PAD>', '<PAD>', '<PAD>', '<PAD>', '<PAD>', '<PAD>', '<PAD>', '<PAD>', '<PAD>', '<PAD>', '<PAD>', '<PAD>', '<PAD>', '<PAD>', '<PAD>', '<PAD>', '<PAD>', '<PAD>', '<PAD>', '<PAD>', '<PAD>', '<PAD>', '<PAD>', '<PAD>', '<PAD>', '<PAD>', '<PAD>', '<PAD>', '<PAD>', '<PAD>', '<PAD>', '<PAD>', '<PAD>', '<PAD>', '<PAD>', '<PAD>', '<PAD>', '<PAD>', '<PAD>', '<PAD>', '<PAD>', '<PAD>', '<PAD>', '<PAD>', '<PAD>', '<PAD>', '<PAD>', '<PAD>', '<PAD>', '<PAD>', '<PAD>', '<PAD>', '<PAD>', '<PAD>', '<PAD>', '<PAD>', '<PAD>', '<PAD>', '<PAD>', '<PAD>', '<PAD>', '<PAD>', '<PAD>', '<PAD>', '<PAD>', '<PAD>', '<PAD>', '<PAD>', '<PAD>', '<PAD>', '<PAD>', '<PAD>', '<PAD>', '<PAD>', '<PAD>', '<PAD>', '<PAD>', '<PAD>', '<PAD>', '<PAD>', '<PAD>', '<PAD>', '<PAD>', '<PAD>', '<PAD>', '<PAD>', '<PAD>', '<PAD>', '<PAD>', '<PAD>', '<PAD>', '<PAD>', '<PAD>', '<PAD>', '<PAD>', '<PAD>', '<PAD>', '<PAD>', '<PAD>', '<PAD>', '<PAD>', '<PAD>', '<PAD>', '<PAD>', '<PAD>', '<PAD>', '<PAD>', '<PAD>', '<PAD>', '<PAD>', '<PAD>', '<PAD>', '<PAD>', '<PAD>', '<PAD>', '<PAD>', '<PAD>', '<PAD>', '<PAD>', '<PAD>', '<PAD>', '<PAD>', '<PAD>', '<PAD>', '<PAD>', '<PAD>', '<PAD>', '<PAD>', '<PAD>', '<PAD>', '<PAD>', '<PAD>', '<PAD>', '<PAD>', '<PAD>', '<PAD>', '<PAD>', '<PAD>', '<PAD>', '<PAD>', '<PAD>', '<PAD>', '<PAD>', '<PAD>', '<PAD>', '<PAD>', '<PAD>', '<PAD>', '<PAD>', '<PAD>', '<PAD>', '<PAD>', '<PAD>', '<PAD>', '<PAD>', '<PAD>', '<PAD>', '<PAD>', '<PAD>', '<PAD>', '<PAD>', '<PAD>', '<PAD>', '<PAD>', '<PAD>', '<PAD>', '<PAD>', '<PAD>', '<PAD>', '<PAD>', '<PAD>', '<PAD>', '<PAD>', '<PAD>', '<PAD>', '<PAD>', '<PAD>', '<PAD>', '<PAD>', '<PAD>', '<PAD>', '<PAD>', '<PAD>', '<PAD>', '<PAD>', '<PAD>', '<PAD>', '<PAD>', '<PAD>', '<PAD>', '<PAD>', '<PAD>', '<PAD>', '<PAD>', '<PAD>', '<PAD>', '<PAD>', '<PAD>', '<PAD>', '<PAD>', '<PAD>', '<PAD>', '<PAD>', '<PAD>', '<PAD>', '<PAD>', '<PAD>', '<PAD>', '<PAD>', '<PAD>', '<PAD>', '<PAD>', '<PAD>', '<PAD>', '<PAD>', '<PAD>', '<PAD>', '<PAD>', '<PAD>', '<PAD>', '<PAD>', '<PAD>', '<PAD>', '<PAD>', '<PAD>', '<PAD>', '<PAD>', '<PAD>', '<PAD>', '<PAD>', '<PAD>', '<PAD>', '<PAD>', '<PAD>', '<PAD>', '<PAD>', '<PAD>', '<PAD>', '<PAD>', '<PAD>', '<PAD>', '<PAD>', '<PAD>', '<PAD>', '<PAD>', '<PAD>', '<PAD>', '<PAD>', '<PAD>', '<PAD>', '<PAD>', '<PAD>', '<PAD>', '<PAD>', '<PAD>', '<PAD>', '<PAD>', '<PAD>', '<PAD>', '<PAD>', '<PAD>', '<PAD>', '<PAD>', '<PAD>', '<PAD>', '<PAD>', '<PAD>', '<PAD>', '<PAD>', '<PAD>', '<PAD>', '<PAD>', '<PAD>', '<PAD>', '<PAD>', '<PAD>', '<PAD>', '<PAD>', '<PAD>', '<PAD>', '<PAD>', '<PAD>', '<PAD>', '<PAD>', '<PAD>', '<PAD>', '<PAD>', '<PAD>', '<PAD>', '<PAD>', '<PAD>', '<PAD>', '<PAD>', '<PAD>', '<PAD>', '<PAD>', '<PAD>', '<PAD>', '<PAD>', '<PAD>', '<PAD>', '<PAD>', '<PAD>', '<PAD>', '<PAD>', '<PAD>', '<PAD>', '<PAD>', '<PAD>', '<PAD>', '<PAD>', '<PAD>', '<PAD>', '<PAD>', '<PAD>', '<PAD>', '<PAD>', '<PAD>', '<PAD>', '<PAD>', '<PAD>', '<PAD>', '<PAD>', '<PAD>', '<PAD>', '<PAD>', '<PAD>', '<PAD>', '<PAD>', '<PAD>', '<PAD>', '<PAD>', '<PAD>', '<PAD>', '<PAD>', '<PAD>', '<PAD>', '<PAD>', '<PAD>', '<PAD>', '<PAD>', '<PAD>', '<PAD>', '<PAD>', '<PAD>', '<PAD>', '<PAD>', '<PAD>', '<PAD>', '<PAD>', '<PAD>', '<PAD>', '<PAD>', '<PAD>', '<PAD>', '<PAD>', '<PAD>', '<PAD>', '<PAD>', '<PAD>', '<PAD>', '<PAD>', '<PAD>', '<PAD>', '<PAD>', '<PAD>', '<PAD>', '<PAD>', '<PAD>', '<PAD>', '<PAD>', '<PAD>', '<PAD>', '<PAD>', '<PAD>', '<PAD>', '<PAD>', '<PAD>', '<PAD>', '<PAD>', '<PAD>', '<PAD>', '<PAD>', '<PAD>', '<PAD>', '<PAD>', '<PAD>', '<PAD>', '<PAD>', '<PAD>', '<PAD>', '<PAD>', '<PAD>', '<PAD>', '<PAD>', '<PAD>', '<PAD>', '<PAD>', '<PAD>', '<PAD>', '<PAD>', '<PAD>', '<PAD>', '<PAD>', '<PAD>', '<PAD>', '<PAD>', '<PAD>', '<PAD>', '<PAD>', '<PAD>', '<PAD>', '<PAD>', '<PAD>', '<PAD>', '<PAD>', '<PAD>', '<PAD>', '<PAD>', '<PAD>', '<PAD>', '<PAD>', '<PAD>', '<PAD>', '<PAD>', '<PAD>', '<PAD>', '<PAD>', '<PAD>', '<PAD>', '<PAD>', '<PAD>', '<PAD>', '<PAD>', '<PAD>', '<PAD>', '<PAD>', '<PAD>', '<PAD>', '<PAD>', '<PAD>', '<PAD>', '<PAD>', '<PAD>', '<PAD>', '<PAD>', '<PAD>', '<PAD>', '<PAD>', '<PAD>', '<PAD>', '<PAD>', '<PAD>', '<PAD>', '<PAD>', '<PAD>', '<PAD>', '<PAD>', '<PAD>', '<PAD>', '<PAD>', '<PAD>', '<PAD>', '<PAD>', '<PAD>', '<PAD>', '<PAD>', '<PAD>', '<PAD>', '<PAD>', '<PAD>', '<PAD>', '<PAD>', '<PAD>', '<PAD>', '<PAD>', '<PAD>', '<PAD>', '<PAD>', '<PAD>', '<PAD>', '<PAD>', '<PAD>', '<PAD>', '<PAD>', '<PAD>', '<PAD>', '<PAD>', '<PAD>', '<PAD>', '<PAD>', '<PAD>', '<PAD>', '<PAD>', '<PAD>', '<PAD>', '<PAD>', '<PAD>', '<PAD>', '<PAD>', '<PAD>', '<PAD>', '<PAD>', '<PAD>', '<PAD>', '<PAD>', '<PAD>', '<PAD>', '<PAD>', '<PAD>', '<PAD>', '<PAD>', '<PAD>', '<PAD>', '<PAD>', '<PAD>', '<PAD>', '<PAD>', '<PAD>', '<PAD>', '<PAD>', '<PAD>', '<PAD>', '<PAD>', '<PAD>', '<PAD>', '<PAD>', '<PAD>', '<PAD>', '<PAD>', '<PAD>', '<PAD>', '<PAD>', '<PAD>', '<PAD>', '<PAD>', '<PAD>', '<PAD>', '<PAD>', '<PAD>', '<PAD>', '<PAD>', '<PAD>', '<PAD>', '<PAD>', '<PAD>', '<PAD>', '<PAD>', '<PAD>', '<PAD>', '<PAD>', '<PAD>', '<PAD>', '<PAD>', '<PAD>', '<PAD>', '<PAD>', '<PAD>', '<PAD>', '<PAD>', '<PAD>', '<PAD>', '<PAD>', '<PAD>', '<PAD>', '<PAD>', '<PAD>', '<PAD>', '<PAD>', '<PAD>', '<PAD>', '<PAD>', '<PAD>', '<PAD>', '<PAD>', '<PAD>', '<PAD>', '<PAD>', '<PAD>', '<PAD>', '<PAD>', '<PAD>', '<PAD>', '<PAD>', '<PAD>', '<PAD>', '<PAD>', '<PAD>', '<PAD>', '<PAD>', '<PAD>', '<PAD>', '<PAD>', '<PAD>', '<PAD>', '<PAD>', '<PAD>', '<PAD>', '<PAD>', '<PAD>', '<PAD>', '<PAD>', '<PAD>', '<PAD>', '<PAD>', '<PAD>', '<PAD>', '<PAD>', '<PAD>', '<PAD>', '<PAD>', '<PAD>', '<PAD>', '<PAD>', '<PAD>', '<PAD>', '<PAD>', '<PAD>', '<PAD>', '<PAD>', '<PAD>', '<PAD>', '<PAD>', '<PAD>', '<PAD>', '<PAD>', '<PAD>', '<PAD>', '<PAD>', '<PAD>', '<PAD>', '<PAD>', '<PAD>', '<PAD>', '<PAD>', '<PAD>', '<PAD>', '<PAD>', '<PAD>', '<PAD>', '<PAD>', '<PAD>', '<PAD>', '<PAD>', '<PAD>', '<PAD>', '<PAD>', '<PAD>', '<PAD>', '<PAD>', '<PAD>', '<PAD>', '<PAD>', '<PAD>', '<PAD>', '<PAD>', '<PAD>', '<PAD>', '<PAD>', '<PAD>', '<PAD>', '<PAD>', '<PAD>', '<PAD>', '<PAD>', '<PAD>', '<PAD>', '<PAD>', '<PAD>', '<PAD>', '<PAD>', '<PAD>', '<PAD>', '<PAD>', '<PAD>', '<PAD>', '<PAD>', '<PAD>', '<PAD>', '<PAD>', '<PAD>', '<PAD>', '<PAD>', '<PAD>', '<PAD>', '<PAD>', '<PAD>', '<PAD>', '<PAD>', '<PAD>', '<PAD>', '<PAD>', '<PAD>', '<PAD>', '<PAD>', '<PAD>', '<PAD>', '<PAD>', '<PAD>', '<PAD>', '<PAD>', '<PAD>', '<PAD>', '<PAD>', '<PAD>', '<PAD>', '<PAD>', '<PAD>', '<PAD>', '<PAD>', '<PAD>', '<PAD>', '<PAD>', '<PAD>', '<PAD>', '<PAD>', '<PAD>', '<PAD>', '<PAD>', '<PAD>', '<PAD>', '<PAD>', '<PAD>', '<PAD>', '<PAD>', '<PAD>', '<PAD>', '<PAD>', '<PAD>', '<PAD>', '<PAD>', '<PAD>', '<PAD>', '<PAD>', '<PAD>', '<PAD>', '<PAD>', '<PAD>', '<PAD>', '<PAD>', '<PAD>', '<PAD>', '<PAD>', '<PAD>', '<PAD>', '<PAD>', '<PAD>', '<PAD>', '<PAD>', '<PAD>', 'once', 'when', 'i', 'was', 'in', 'college', 'and', 'we', 'had', 'an', 'international', 'fair', 'the', 'russian', 'section', 'had', 'a', 'soviet', 'era', 'poster', 'saying', 'ne', 'boltay', 'meaning', \"don't\", 'gossip', 'i', 'translated', 'it', 'for', 'the', 'generation', 'of', 'tv', 'watchers', 'as', \"don't\", 'be', 'gladys', 'kravitz', 'in', 'reference', 'to', 'the', 'nosy', 'neighbor', 'on', 'bewitched', 'br', 'br', 'however', 'when', 'you', 'see', 'the', 'result', 'of', 'gossip', 'in', 'the', 'pvt', 'snafu', 'short', 'rumors', 'you', 'see', 'that', \"it's\", 'not', 'quite', 'a', 'laughing', 'matter', 'in', 'this', 'case', 'the', 'perpetually', 'witless', 'soldier', 'overhears', 'something', 'about', 'bombing', 'and', 'immediately', 'assumes', 'that', 'the', 'axis', 'powers', 'have', 'attacked', 'the', 'united', 'states', 'so', 'he', 'tells', 'it', 'to', 'someone', 'who', 'tells', 'someone', 'else', 'who', 'tells', 'someone', 'else', 'and', 'it', 'continues', 'as', 'in', 'the', 'russians', 'are', 'coming', 'the', 'russians', 'are', 'coming', 'the', 'story', 'gets', 'blown', 'more', 'and', 'more', 'out', 'of', 'proportion', 'each', 'time', 'so', 'that', 'when', 'it', 'gets', 'back', 'to', 'snafu', 'well', 'you', 'know', 'what', 'i', 'mean', 'yes', \"it's\", 'mostly', 'wwii', 'propaganda', 'complete', 'with', 'a', 'derogatory', 'term', 'for', 'the', 'japanese', 'but', 'i', 'have', 'to', 'say', 'that', 'the', 'pvt', 'snafu', 'shorts', 'were', 'actually', 'quite', 'funny', 'of', 'course', 'since', 'they', 'had', 'dr', 'seuss', 'writing', 'and', 'mel', 'blanc', 'providing', 'the', 'voices', \"it's\", 'no', 'surprise', 'that', 'these', 'came', 'out', 'rather', 'cool', 'worth', 'seeing']\n"
     ]
    }
   ],
   "source": [
    "print([tokenizer.index_word.get(k, '<PAD>') for k in train_data[0]])"
   ]
  },
  {
   "cell_type": "markdown",
   "id": "86791078",
   "metadata": {},
   "source": [
    "## Train a classifier with Word Embeddings"
   ]
  },
  {
   "cell_type": "code",
   "execution_count": 51,
   "id": "4f8f1298",
   "metadata": {},
   "outputs": [],
   "source": [
    "countries_wiki = KeyedVectors.load('Distributional_Semantics/wiki-countries.w2v')"
   ]
  },
  {
   "cell_type": "code",
   "execution_count": 52,
   "id": "293d9a27",
   "metadata": {},
   "outputs": [],
   "source": [
    "embedding_layer = utils.make_embedding_layer(countries_wiki, tokenizer, MAX_SEQUENCE_LENGTH)\n",
    "countries_wiki_model = Sequential([\n",
    "    Input(shape=(MAX_SEQUENCE_LENGTH,), dtype='int32'),\n",
    "    embedding_layer,\n",
    "    GlobalAveragePooling1D(),\n",
    "    Dense(128, activation='relu'),\n",
    "    Dense(64, activation='relu'),\n",
    "    Dense(1, activation='sigmoid')\n",
    "])\n",
    "\n",
    "countries_wiki_model.compile(loss='binary_crossentropy', optimizer=Adam(), metrics=['accuracy'])"
   ]
  },
  {
   "cell_type": "code",
   "execution_count": 53,
   "id": "f21b4ad7",
   "metadata": {},
   "outputs": [
    {
     "name": "stdout",
     "output_type": "stream",
     "text": [
      "Epoch 1/30\n",
      "391/391 [==============================] - 4s 9ms/step - loss: 0.6175 - accuracy: 0.6656 - val_loss: 0.5839 - val_accuracy: 0.7010\n",
      "Epoch 2/30\n",
      "391/391 [==============================] - 3s 9ms/step - loss: 0.5568 - accuracy: 0.7183 - val_loss: 0.5568 - val_accuracy: 0.7171\n",
      "Epoch 3/30\n",
      "391/391 [==============================] - 4s 10ms/step - loss: 0.5408 - accuracy: 0.7288 - val_loss: 0.5812 - val_accuracy: 0.7029\n",
      "Epoch 4/30\n",
      "391/391 [==============================] - 4s 10ms/step - loss: 0.5298 - accuracy: 0.7373 - val_loss: 0.5383 - val_accuracy: 0.7330\n",
      "Epoch 5/30\n",
      "391/391 [==============================] - 4s 10ms/step - loss: 0.5214 - accuracy: 0.7424 - val_loss: 0.5460 - val_accuracy: 0.7282\n",
      "Epoch 6/30\n",
      "391/391 [==============================] - 4s 10ms/step - loss: 0.5190 - accuracy: 0.7438 - val_loss: 0.5328 - val_accuracy: 0.7368\n",
      "Epoch 7/30\n",
      "391/391 [==============================] - 3s 9ms/step - loss: 0.5140 - accuracy: 0.7474 - val_loss: 0.5351 - val_accuracy: 0.7347\n",
      "Epoch 8/30\n",
      "391/391 [==============================] - 3s 9ms/step - loss: 0.5110 - accuracy: 0.7462 - val_loss: 0.5370 - val_accuracy: 0.7323\n",
      "Epoch 9/30\n",
      "391/391 [==============================] - 4s 9ms/step - loss: 0.5079 - accuracy: 0.7472 - val_loss: 0.5319 - val_accuracy: 0.7374\n",
      "Epoch 10/30\n",
      "391/391 [==============================] - 4s 9ms/step - loss: 0.5042 - accuracy: 0.7502 - val_loss: 0.5614 - val_accuracy: 0.7128\n",
      "Epoch 11/30\n",
      "391/391 [==============================] - 4s 9ms/step - loss: 0.5040 - accuracy: 0.7488 - val_loss: 0.5271 - val_accuracy: 0.7402\n",
      "Epoch 12/30\n",
      "391/391 [==============================] - 4s 10ms/step - loss: 0.4996 - accuracy: 0.7526 - val_loss: 0.5377 - val_accuracy: 0.7330\n",
      "Epoch 13/30\n",
      "391/391 [==============================] - 4s 9ms/step - loss: 0.4959 - accuracy: 0.7588 - val_loss: 0.5307 - val_accuracy: 0.7373\n",
      "Epoch 14/30\n",
      "391/391 [==============================] - 4s 10ms/step - loss: 0.4925 - accuracy: 0.7584 - val_loss: 0.5289 - val_accuracy: 0.7402\n",
      "Epoch 15/30\n",
      "391/391 [==============================] - 4s 9ms/step - loss: 0.4907 - accuracy: 0.7593 - val_loss: 0.5388 - val_accuracy: 0.7290\n",
      "Epoch 16/30\n",
      "391/391 [==============================] - 3s 9ms/step - loss: 0.4895 - accuracy: 0.7602 - val_loss: 0.5220 - val_accuracy: 0.7410\n",
      "Epoch 17/30\n",
      "391/391 [==============================] - 3s 9ms/step - loss: 0.4829 - accuracy: 0.7620 - val_loss: 0.5334 - val_accuracy: 0.7344\n",
      "Epoch 18/30\n",
      "391/391 [==============================] - 4s 9ms/step - loss: 0.4815 - accuracy: 0.7650 - val_loss: 0.5310 - val_accuracy: 0.7322\n",
      "Epoch 19/30\n",
      "391/391 [==============================] - 4s 9ms/step - loss: 0.4790 - accuracy: 0.7642 - val_loss: 0.5384 - val_accuracy: 0.7283\n",
      "Epoch 20/30\n",
      "391/391 [==============================] - 3s 9ms/step - loss: 0.4776 - accuracy: 0.7670 - val_loss: 0.5304 - val_accuracy: 0.7387\n",
      "Epoch 21/30\n",
      "391/391 [==============================] - 4s 9ms/step - loss: 0.4740 - accuracy: 0.7686 - val_loss: 0.5313 - val_accuracy: 0.7344\n",
      "Epoch 22/30\n",
      "391/391 [==============================] - 3s 9ms/step - loss: 0.4703 - accuracy: 0.7706 - val_loss: 0.5319 - val_accuracy: 0.7381\n",
      "Epoch 23/30\n",
      "391/391 [==============================] - 4s 9ms/step - loss: 0.4700 - accuracy: 0.7732 - val_loss: 0.5398 - val_accuracy: 0.7349\n",
      "Epoch 24/30\n",
      "391/391 [==============================] - 3s 9ms/step - loss: 0.4660 - accuracy: 0.7756 - val_loss: 0.5318 - val_accuracy: 0.7373\n",
      "Epoch 25/30\n",
      "391/391 [==============================] - 3s 9ms/step - loss: 0.4634 - accuracy: 0.7756 - val_loss: 0.5350 - val_accuracy: 0.7354\n",
      "Epoch 26/30\n",
      "391/391 [==============================] - 4s 9ms/step - loss: 0.4597 - accuracy: 0.7791 - val_loss: 0.5276 - val_accuracy: 0.7382\n",
      "Epoch 27/30\n",
      "391/391 [==============================] - 4s 10ms/step - loss: 0.4594 - accuracy: 0.7792 - val_loss: 0.5314 - val_accuracy: 0.7373\n",
      "Epoch 28/30\n",
      "391/391 [==============================] - 4s 9ms/step - loss: 0.4540 - accuracy: 0.7841 - val_loss: 0.5408 - val_accuracy: 0.7325\n",
      "Epoch 29/30\n",
      "391/391 [==============================] - 4s 9ms/step - loss: 0.4527 - accuracy: 0.7834 - val_loss: 0.5448 - val_accuracy: 0.7355\n",
      "Epoch 30/30\n",
      "391/391 [==============================] - 3s 9ms/step - loss: 0.4496 - accuracy: 0.7838 - val_loss: 0.5394 - val_accuracy: 0.7322\n"
     ]
    }
   ],
   "source": [
    "countries_wiki_model = countries_wiki_model.fit(\n",
    "    train_data, dfTrain['label'].values,\n",
    "    validation_data=(test_data, xts['label'].values),\n",
    "    batch_size=64, epochs=30\n",
    ")"
   ]
  },
  {
   "cell_type": "markdown",
   "id": "3d143d89",
   "metadata": {},
   "source": [
    "## Train with a different set of word embeddings\n",
    "\n",
    "### GloVe: Global Vectores for Word Representation\n",
    "\n",
    "#### Download [here](http://nlp.stanford.edu/data/glove.6B.zip)"
   ]
  },
  {
   "cell_type": "code",
   "execution_count": 54,
   "id": "b5e39470",
   "metadata": {},
   "outputs": [],
   "source": [
    "glove_wiki = KeyedVectors.load_word2vec_format('data/glove.6B/glove.6B.300d.txt', binary=False, no_header=True)"
   ]
  },
  {
   "cell_type": "code",
   "execution_count": 55,
   "id": "3b4c2419",
   "metadata": {},
   "outputs": [],
   "source": [
    "embedding_layer = utils.make_embedding_layer(glove_wiki, tokenizer, MAX_SEQUENCE_LENGTH)\n",
    "\n",
    "glove_model = Sequential([\n",
    "    Input(shape=(MAX_SEQUENCE_LENGTH,), dtype='int32'),\n",
    "    embedding_layer,\n",
    "    GlobalAveragePooling1D(),\n",
    "    Dense(128, activation='relu'),\n",
    "    Dense(64, activation='relu'),\n",
    "    Dense(1, activation='sigmoid')\n",
    "])\n",
    "\n",
    "glove_model.compile(loss='binary_crossentropy', optimizer=Adam(), metrics=['accuracy'])"
   ]
  },
  {
   "cell_type": "code",
   "execution_count": 56,
   "id": "f41b7cae",
   "metadata": {},
   "outputs": [
    {
     "name": "stdout",
     "output_type": "stream",
     "text": [
      "Epoch 1/30\n",
      "782/782 [==============================] - 9s 12ms/step - loss: 0.5440 - accuracy: 0.7332 - val_loss: 0.4875 - val_accuracy: 0.7910\n",
      "Epoch 2/30\n",
      "782/782 [==============================] - 9s 11ms/step - loss: 0.4353 - accuracy: 0.8102 - val_loss: 0.4244 - val_accuracy: 0.8264\n",
      "Epoch 3/30\n",
      "782/782 [==============================] - 9s 11ms/step - loss: 0.4088 - accuracy: 0.8232 - val_loss: 0.4174 - val_accuracy: 0.8149\n",
      "Epoch 4/30\n",
      "782/782 [==============================] - 9s 11ms/step - loss: 0.3906 - accuracy: 0.8278 - val_loss: 0.3948 - val_accuracy: 0.8275\n",
      "Epoch 5/30\n",
      "782/782 [==============================] - 9s 12ms/step - loss: 0.3866 - accuracy: 0.8287 - val_loss: 0.3809 - val_accuracy: 0.8317\n",
      "Epoch 6/30\n",
      "782/782 [==============================] - 9s 12ms/step - loss: 0.3798 - accuracy: 0.8315 - val_loss: 0.3790 - val_accuracy: 0.8344\n",
      "Epoch 7/30\n",
      "782/782 [==============================] - 9s 11ms/step - loss: 0.3770 - accuracy: 0.8348 - val_loss: 0.3907 - val_accuracy: 0.8256\n",
      "Epoch 8/30\n",
      "782/782 [==============================] - 9s 12ms/step - loss: 0.3760 - accuracy: 0.8330 - val_loss: 0.3823 - val_accuracy: 0.8298\n",
      "Epoch 9/30\n",
      "782/782 [==============================] - 9s 11ms/step - loss: 0.3735 - accuracy: 0.8352 - val_loss: 0.3768 - val_accuracy: 0.8333\n",
      "Epoch 10/30\n",
      "782/782 [==============================] - 9s 12ms/step - loss: 0.3702 - accuracy: 0.8357 - val_loss: 0.3819 - val_accuracy: 0.8291\n",
      "Epoch 11/30\n",
      "782/782 [==============================] - 9s 11ms/step - loss: 0.3707 - accuracy: 0.8366 - val_loss: 0.3874 - val_accuracy: 0.8280\n",
      "Epoch 12/30\n",
      "782/782 [==============================] - 9s 12ms/step - loss: 0.3684 - accuracy: 0.8382 - val_loss: 0.3750 - val_accuracy: 0.8322\n",
      "Epoch 13/30\n",
      "782/782 [==============================] - 9s 12ms/step - loss: 0.3688 - accuracy: 0.8360 - val_loss: 0.3735 - val_accuracy: 0.8330\n",
      "Epoch 14/30\n",
      "782/782 [==============================] - 9s 12ms/step - loss: 0.3661 - accuracy: 0.8379 - val_loss: 0.3903 - val_accuracy: 0.8293\n",
      "Epoch 15/30\n",
      "782/782 [==============================] - 9s 12ms/step - loss: 0.3641 - accuracy: 0.8383 - val_loss: 0.3707 - val_accuracy: 0.8347\n",
      "Epoch 16/30\n",
      "782/782 [==============================] - 9s 12ms/step - loss: 0.3655 - accuracy: 0.8387 - val_loss: 0.3726 - val_accuracy: 0.8323\n",
      "Epoch 17/30\n",
      "782/782 [==============================] - 10s 13ms/step - loss: 0.3622 - accuracy: 0.8403 - val_loss: 0.3863 - val_accuracy: 0.8294\n",
      "Epoch 18/30\n",
      "782/782 [==============================] - 9s 12ms/step - loss: 0.3608 - accuracy: 0.8409 - val_loss: 0.3913 - val_accuracy: 0.8205\n",
      "Epoch 19/30\n",
      "782/782 [==============================] - 10s 12ms/step - loss: 0.3591 - accuracy: 0.8419 - val_loss: 0.3702 - val_accuracy: 0.8328\n",
      "Epoch 20/30\n",
      "782/782 [==============================] - 9s 12ms/step - loss: 0.3577 - accuracy: 0.8404 - val_loss: 0.4049 - val_accuracy: 0.8208\n",
      "Epoch 21/30\n",
      "782/782 [==============================] - 9s 11ms/step - loss: 0.3579 - accuracy: 0.8414 - val_loss: 0.3946 - val_accuracy: 0.8157\n",
      "Epoch 22/30\n",
      "782/782 [==============================] - 9s 12ms/step - loss: 0.3555 - accuracy: 0.8432 - val_loss: 0.3665 - val_accuracy: 0.8344\n",
      "Epoch 23/30\n",
      "782/782 [==============================] - 9s 11ms/step - loss: 0.3534 - accuracy: 0.8447 - val_loss: 0.3720 - val_accuracy: 0.8365\n",
      "Epoch 24/30\n",
      "782/782 [==============================] - 9s 12ms/step - loss: 0.3555 - accuracy: 0.8432 - val_loss: 0.3707 - val_accuracy: 0.8354\n",
      "Epoch 25/30\n",
      "782/782 [==============================] - 9s 11ms/step - loss: 0.3519 - accuracy: 0.8456 - val_loss: 0.3661 - val_accuracy: 0.8362\n",
      "Epoch 26/30\n",
      "782/782 [==============================] - 9s 11ms/step - loss: 0.3516 - accuracy: 0.8443 - val_loss: 0.3672 - val_accuracy: 0.8320\n",
      "Epoch 27/30\n",
      "782/782 [==============================] - 9s 12ms/step - loss: 0.3506 - accuracy: 0.8451 - val_loss: 0.3719 - val_accuracy: 0.8362\n",
      "Epoch 28/30\n",
      "782/782 [==============================] - 9s 12ms/step - loss: 0.3480 - accuracy: 0.8462 - val_loss: 0.3641 - val_accuracy: 0.8355\n",
      "Epoch 29/30\n",
      "782/782 [==============================] - 9s 12ms/step - loss: 0.3480 - accuracy: 0.8469 - val_loss: 0.3658 - val_accuracy: 0.8374\n",
      "Epoch 30/30\n",
      "782/782 [==============================] - 9s 12ms/step - loss: 0.3464 - accuracy: 0.8478 - val_loss: 0.3696 - val_accuracy: 0.8318\n"
     ]
    }
   ],
   "source": [
    "glove_history = glove_model.fit(\n",
    "    train_data, dfTrain['label'].values,\n",
    "    validation_data=(test_data, xts['label'].values),\n",
    "    batch_size=32, epochs=30\n",
    ")"
   ]
  },
  {
   "cell_type": "code",
   "execution_count": 57,
   "id": "c140000f",
   "metadata": {},
   "outputs": [
    {
     "data": {
      "text/plain": [
       "<matplotlib.legend.Legend at 0x335e0ed50>"
      ]
     },
     "execution_count": 57,
     "metadata": {},
     "output_type": "execute_result"
    },
    {
     "data": {
      "image/png": "[encoded data removed]",
      "text/plain": [
       "<Figure size 640x480 with 1 Axes>"
      ]
     },
     "metadata": {},
     "output_type": "display_data"
    }
   ],
   "source": [
    "plt.plot(countries_wiki_model.history['val_accuracy'], label='Countries Wiki')\n",
    "plt.plot(glove_history.history['val_accuracy'], label='All wiki')\n",
    "plt.legend()"
   ]
  },
  {
   "cell_type": "markdown",
   "id": "3d4e6755",
   "metadata": {},
   "source": [
    "## Example input text for prediction"
   ]
  },
  {
   "cell_type": "code",
   "execution_count": 78,
   "id": "acc65098",
   "metadata": {},
   "outputs": [],
   "source": [
    "# Example input text for prediction\n",
    "input_text = [\"I wish I knew what to make of a movie like this. It seems to be divided into two parts -- action sequences and personal dramas ashore. It follows Ashton Kutsher through survival swimmer school, guided by Master Chief Kevin Costner, then to Alaska where a couple of spectacular rescues take place, the last resulting in death.<br /><br />I must say that the scenes on the beach struck me as so stereotypical in so many ways that they should be barnacle encrusted. A typical bar room fight between Navy guys and Coast Guardsmen (\\\"puddle pirates\\\"). The experienced old timer Costner who is, as an elderly bar tender tells him, \\\"married to the Coast Guard.\\\" The older chief who \\\"keeps trying to prove to himself that he's still nineteen.\\\" The neglected ex wife ashore to whom Kostner pays a farewell visit. The seemingly sadistic demands placed on the swimmers by the instructors, all in pursuit of a loftier goal. The gifted young man hobbled by a troubled past.<br /><br />The problem is that we've seen it all before. If it's Kevin Costner here, it's Clint Eastwood or John Wayne or Lou Gosset Jr. or Vigo Mortenson or Robert DeNiro elsewhere. And the climactic scene has elements drawn shamelessly from \\\"The Perfect Storm\\\" and \\\"Dead Calm.\\\" None of it is fresh and none of the old stereotyped characters and situations are handled with any originality.<br /><br />It works best as a kind of documentary of what goes on in the swimmer's school and what could happen afterward and even that\\'s a little weak because we don\\'t get much in the way of instruction. It\\'s mostly personal conflict, romance, and tension about washing out.<br /><br />It\\'s a shame because the U. S. Coast Guard is rather a noble outfit, its official mission being \\\"the safety of lives and property at sea.\\\" In war time it is transferred to the Navy Department and serves in combat roles. In World War II, the Coast Guard even managed to have a Medal of Honor winner in its ranks.<br /><br />But, again, we don\\'t learn much about that. We don\\'t really learn much about anything. The film devolves into a succession of visual displays and not too much else. A disappointment.\"]\n",
    "\n",
    "# Tokenize the input text using the same tokenizer used during training\n",
    "tokenized_input = tokenizer.texts_to_sequences(input_text)\n",
    "\n",
    "# Ensure the sequences are padded to the correct length (MAX_SEQUENCE_LENGTH)\n",
    "padded_input = pad_sequences(tokenized_input, maxlen=MAX_SEQUENCE_LENGTH)"
   ]
  },
  {
   "cell_type": "code",
   "execution_count": 79,
   "id": "3c031fb6",
   "metadata": {},
   "outputs": [
    {
     "name": "stdout",
     "output_type": "stream",
     "text": [
      "1/1 [==============================] - 0s 80ms/step\n"
     ]
    }
   ],
   "source": [
    "# Predict sentiment using the trained model\n",
    "predictions = glove_model.predict(padded_input)"
   ]
  },
  {
   "cell_type": "code",
   "execution_count": 80,
   "id": "ddd3bd75",
   "metadata": {
    "scrolled": true
   },
   "outputs": [
    {
     "name": "stdout",
     "output_type": "stream",
     "text": [
      "[[0.35967186]]\n"
     ]
    }
   ],
   "source": [
    "print(predictions)"
   ]
  },
  {
   "cell_type": "code",
   "execution_count": 82,
   "id": "34afab65",
   "metadata": {},
   "outputs": [
    {
     "name": "stdout",
     "output_type": "stream",
     "text": [
      "Text: I wish I knew what to make of a movie like this. It seems to be divided into two parts -- action sequences and personal dramas ashore. It follows Ashton Kutsher through survival swimmer school, guided by Master Chief Kevin Costner, then to Alaska where a couple of spectacular rescues take place, the last resulting in death.<br /><br />I must say that the scenes on the beach struck me as so stereotypical in so many ways that they should be barnacle encrusted. A typical bar room fight between Navy guys and Coast Guardsmen (\"puddle pirates\"). The experienced old timer Costner who is, as an elderly bar tender tells him, \"married to the Coast Guard.\" The older chief who \"keeps trying to prove to himself that he's still nineteen.\" The neglected ex wife ashore to whom Kostner pays a farewell visit. The seemingly sadistic demands placed on the swimmers by the instructors, all in pursuit of a loftier goal. The gifted young man hobbled by a troubled past.<br /><br />The problem is that we've seen it all before. If it's Kevin Costner here, it's Clint Eastwood or John Wayne or Lou Gosset Jr. or Vigo Mortenson or Robert DeNiro elsewhere. And the climactic scene has elements drawn shamelessly from \"The Perfect Storm\" and \"Dead Calm.\" None of it is fresh and none of the old stereotyped characters and situations are handled with any originality.<br /><br />It works best as a kind of documentary of what goes on in the swimmer's school and what could happen afterward and even that's a little weak because we don't get much in the way of instruction. It's mostly personal conflict, romance, and tension about washing out.<br /><br />It's a shame because the U. S. Coast Guard is rather a noble outfit, its official mission being \"the safety of lives and property at sea.\" In war time it is transferred to the Navy Department and serves in combat roles. In World War II, the Coast Guard even managed to have a Medal of Honor winner in its ranks.<br /><br />But, again, we don't learn much about that. We don't really learn much about anything. The film devolves into a succession of visual displays and not too much else. A disappointment.\n",
      "\n",
      "Predicted Sentiment: Negative\n",
      "\n"
     ]
    }
   ],
   "source": [
    "predicted_labels = (predictions >= 0.5).astype(int)\n",
    "\n",
    "# Convert binary labels to sentiment labels\n",
    "sentiment_labels = [\"Positive\" if label == 1 else \"Negative\" for label in predicted_labels.flatten()]\n",
    "\n",
    "# Print the sentiment labels for the input text\n",
    "for text, sentiment in zip(input_text, sentiment_labels):\n",
    "    print(f\"Text: {text}\\n\\nPredicted Sentiment: {sentiment}\\n\")"
   ]
  },
  {
   "cell_type": "markdown",
   "id": "e9c67f34",
   "metadata": {},
   "source": [
    "## Conclusion:\n",
    " - countries_wiki_model is created using countries data(Word Embedding) of wikipidia and this vector has only coverage of wikipidia contants, so this model is providing training accuracy(78.38% ) and validation accuracy(73.22%). \n",
    " \n",
    " - glove_model is created using glove(Word Embedding) and glove vector has been trained on greater datasets, so this model is providing very good training accuracy(84.78%) and validation accuracy(83.18%)  **"
   ]
  },
  {
   "cell_type": "code",
   "execution_count": null,
   "id": "886b277f",
   "metadata": {},
   "outputs": [],
   "source": []
  }
 ],
 "metadata": {
  "kernelspec": {
   "display_name": "Python 3 (ipykernel)",
   "language": "python",
   "name": "python3"
  },
  "language_info": {
   "codemirror_mode": {
    "name": "ipython",
    "version": 3
   },
   "file_extension": ".py",
   "mimetype": "text/x-python",
   "name": "python",
   "nbconvert_exporter": "python",
   "pygments_lexer": "ipython3",
   "version": "3.11.4"
  }
 },
 "nbformat": 4,
 "nbformat_minor": 5
}
